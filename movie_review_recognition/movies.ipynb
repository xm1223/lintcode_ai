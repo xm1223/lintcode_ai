{
 "cells": [
  {
   "cell_type": "code",
   "execution_count": 30,
   "metadata": {},
   "outputs": [
    {
     "data": {
      "text/html": [
       "<div>\n",
       "<style scoped>\n",
       "    .dataframe tbody tr th:only-of-type {\n",
       "        vertical-align: middle;\n",
       "    }\n",
       "\n",
       "    .dataframe tbody tr th {\n",
       "        vertical-align: top;\n",
       "    }\n",
       "\n",
       "    .dataframe thead th {\n",
       "        text-align: right;\n",
       "    }\n",
       "</style>\n",
       "<table border=\"1\" class=\"dataframe\">\n",
       "  <thead>\n",
       "    <tr style=\"text-align: right;\">\n",
       "      <th></th>\n",
       "      <th>id</th>\n",
       "      <th>sentiment</th>\n",
       "      <th>review</th>\n",
       "    </tr>\n",
       "  </thead>\n",
       "  <tbody>\n",
       "    <tr>\n",
       "      <th>0</th>\n",
       "      <td>5814_8</td>\n",
       "      <td>1</td>\n",
       "      <td>With all this stuff going down at the moment w...</td>\n",
       "    </tr>\n",
       "    <tr>\n",
       "      <th>1</th>\n",
       "      <td>2381_9</td>\n",
       "      <td>1</td>\n",
       "      <td>\\The Classic War of the Worlds\\\" by Timothy Hi...</td>\n",
       "    </tr>\n",
       "    <tr>\n",
       "      <th>2</th>\n",
       "      <td>7759_3</td>\n",
       "      <td>0</td>\n",
       "      <td>The film starts with a manager (Nicholas Bell)...</td>\n",
       "    </tr>\n",
       "    <tr>\n",
       "      <th>3</th>\n",
       "      <td>3630_4</td>\n",
       "      <td>0</td>\n",
       "      <td>It must be assumed that those who praised this...</td>\n",
       "    </tr>\n",
       "    <tr>\n",
       "      <th>4</th>\n",
       "      <td>9495_8</td>\n",
       "      <td>1</td>\n",
       "      <td>Superbly trashy and wondrously unpretentious 8...</td>\n",
       "    </tr>\n",
       "  </tbody>\n",
       "</table>\n",
       "</div>"
      ],
      "text/plain": [
       "       id  sentiment                                             review\n",
       "0  5814_8          1  With all this stuff going down at the moment w...\n",
       "1  2381_9          1  \\The Classic War of the Worlds\\\" by Timothy Hi...\n",
       "2  7759_3          0  The film starts with a manager (Nicholas Bell)...\n",
       "3  3630_4          0  It must be assumed that those who praised this...\n",
       "4  9495_8          1  Superbly trashy and wondrously unpretentious 8..."
      ]
     },
     "execution_count": 30,
     "metadata": {},
     "output_type": "execute_result"
    }
   ],
   "source": [
    "import pandas as pd\n",
    "import re\n",
    "import nltk.stem as stem\n",
    "from nltk.tokenize import word_tokenize\n",
    "from sklearn.feature_extraction.text import TfidfVectorizer\n",
    "from sklearn.linear_model import LogisticRegression\n",
    "\n",
    "stemmer = stem.snowball.EnglishStemmer()\n",
    "\n",
    "train = pd.read_csv('~/Downloads/labeledTrainData.tsv', sep='\\t')\n",
    "unlabeled_train = pd.read_csv('~/Downloads/unlabeledTrainData.tsv', sep='\\t', quoting=3)\n",
    "test = pd.read_csv('~/Downloads/testData.tsv', sep='\\t', encoding='ISO-8859-1')\n",
    "y_train = train['sentiment']\n",
    "train.head()"
   ]
  },
  {
   "cell_type": "code",
   "execution_count": 31,
   "metadata": {},
   "outputs": [],
   "source": [
    "def clean_text(texts):\n",
    "    text_list = []\n",
    "    for text in texts:\n",
    "        # 将单词转换为小写\n",
    "        text = text.lower()\n",
    "        # 删除非字母、数字字符\n",
    "        text = re.sub(r'[^a-z\\']', ' ', text)\n",
    "        # 恢复常见的简写\n",
    "        text = re.sub(r'what\\'s', 'what is ', text)\n",
    "        text = re.sub(r'\\'s', ' ', text)\n",
    "        text = re.sub(r'\\'ve', ' have ', text)\n",
    "        text = re.sub(r'can\\'t', 'can not ', text)\n",
    "        text = re.sub(r'cannot', 'can not ', text)\n",
    "        text = re.sub(r'n\\'t', ' not ', text)\n",
    "        text = re.sub(r'\\'m', ' am ', text)\n",
    "        text = re.sub(r'\\'re', ' are ', text)\n",
    "        text = re.sub(r'\\'d', ' will ', text)\n",
    "        text = re.sub(r'ain\\'t', ' are not ', text)\n",
    "        text = re.sub(r'aren\\'t', ' are not ', text)\n",
    "        text = re.sub(r'couldn\\'t', ' can not ', text)\n",
    "        text = re.sub(r'didn\\'t', ' do not ', text)\n",
    "        text = re.sub(r'doesn\\'t', ' do not ', text)\n",
    "        text = re.sub(r'don\\'t', ' do not ', text)\n",
    "        text = re.sub(r'hadn\\'t', ' have not ', text)\n",
    "        text = re.sub(r'hasn\\'t', ' have not ', text)\n",
    "        text = re.sub(r'\\'ll', ' will ', text)\n",
    "        #进行词干提取\n",
    "        new_text = ''\n",
    "        for word in word_tokenize(text):\n",
    "            new_text = new_text + ' ' + stemmer.stem(word)\n",
    "\n",
    "        text_list.append(new_text)\n",
    "    return text_list\n",
    "\n",
    "train_data_content = clean_text(list(train['review']))\n",
    "test_data_content = clean_text(list(test['review']))"
   ]
  },
  {
   "cell_type": "code",
   "execution_count": 33,
   "metadata": {},
   "outputs": [
    {
     "data": {
      "text/plain": [
       "\" the classic war of the world by timothi hine is a veri entertain film that obvious goe to great effort and length to faith recreat h g well ' classic book mr hine succeed in do so i and those who watch his film with me appreci the fact that it was not the standard predict hollywood fare that come out everi year e g the spielberg version with tom cruis that had onli the slightest resembl to the book obvious everyon look for differ thing in a movi those who envis themselv as amateur critic look onli to critic everyth they can other rate a movi on more import base like be entertain which is whi most peopl never agre with the critic we enjoy the effort mr hine put into be faith to h g well ' classic novel and we found it to be veri entertain this made it easi to overlook what the critic perceiv to be it shortcom\""
      ]
     },
     "execution_count": 33,
     "metadata": {},
     "output_type": "execute_result"
    }
   ],
   "source": [
    "train_data_content[1]"
   ]
  },
  {
   "cell_type": "code",
   "execution_count": 34,
   "metadata": {},
   "outputs": [],
   "source": [
    "# TF-IDF\n",
    "all_text_list = list(train_data_content) + list(test_data_content)\n",
    "text_vector = TfidfVectorizer(sublinear_tf=True, strip_accents='unicode',token_pattern=r'\\w{1,}',\n",
    "                              max_features=5000, ngram_range=(1, 1), analyzer='word')\n",
    "text_vector.fit(all_text_list)\n",
    "X_train = text_vector.transform(train_data_content).toarray()\n",
    "X_test = text_vector.transform(test_data_content).toarray()\n"
   ]
  },
  {
   "cell_type": "code",
   "execution_count": 35,
   "metadata": {},
   "outputs": [
    {
     "name": "stdout",
     "output_type": "stream",
     "text": [
      "(25000, 5000) (5000, 5000) <class 'numpy.ndarray'>\n"
     ]
    }
   ],
   "source": [
    "print(X_train.shape, X_test.shape, type(X_train))"
   ]
  },
  {
   "cell_type": "code",
   "execution_count": 42,
   "metadata": {},
   "outputs": [
    {
     "name": "stderr",
     "output_type": "stream",
     "text": [
      "/Users/mingxie/.pyenv/versions/3.7.0/lib/python3.7/site-packages/sklearn/linear_model/logistic.py:433: FutureWarning: Default solver will be changed to 'lbfgs' in 0.22. Specify a solver to silence this warning.\n",
      "  FutureWarning)\n"
     ]
    }
   ],
   "source": [
    "# train model\n",
    "model = LogisticRegression(C=100.0)\n",
    "model.fit(X_train, y_train)\n",
    "pred = model.predict(X_test)\n",
    "#train_scores = model.score(X_train, y_train)\n",
    "#print(train_scores)\n",
    "#predictions = model.predict_proba(X_test)\n",
    "#print(predictions.shape)"
   ]
  },
  {
   "cell_type": "code",
   "execution_count": 43,
   "metadata": {},
   "outputs": [
    {
     "data": {
      "text/plain": [
       "array([0, 1, 1, ..., 0, 0, 1])"
      ]
     },
     "execution_count": 43,
     "metadata": {},
     "output_type": "execute_result"
    }
   ],
   "source": [
    "pred"
   ]
  },
  {
   "cell_type": "code",
   "execution_count": 44,
   "metadata": {},
   "outputs": [],
   "source": [
    "submission = pd.read_csv('~/Downloads/sampleSubmission.csv')\n",
    "submission['sentiment'] = pred\n",
    "submission.to_csv('~/Downloads/m_submission.csv', index=False) "
   ]
  },
  {
   "cell_type": "code",
   "execution_count": null,
   "metadata": {},
   "outputs": [],
   "source": []
  }
 ],
 "metadata": {
  "kernelspec": {
   "display_name": "Python 3",
   "language": "python",
   "name": "python3"
  },
  "language_info": {
   "codemirror_mode": {
    "name": "ipython",
    "version": 3
   },
   "file_extension": ".py",
   "mimetype": "text/x-python",
   "name": "python",
   "nbconvert_exporter": "python",
   "pygments_lexer": "ipython3",
   "version": "3.7.0"
  }
 },
 "nbformat": 4,
 "nbformat_minor": 2
}
