{
 "cells": [
  {
   "cell_type": "code",
   "execution_count": 122,
   "metadata": {},
   "outputs": [
    {
     "name": "stdout",
     "output_type": "stream",
     "text": [
      "(8600, 7)\n",
      "(2286, 7)\n"
     ]
    }
   ],
   "source": [
    "import numpy as np\n",
    "import pandas as pd\n",
    "import matplotlib.pyplot as plt\n",
    "\n",
    "train = pd.read_csv('~/Downloads/train.csv')\n",
    "test = pd.read_csv('~/Downloads/test.csv')\n",
    "\n",
    "#Verified all columns are available, no need impute\n",
    "#na_cols = train.columns[train.isna().any()].tolist()\n",
    "y_train = train['count']\n",
    "# 'temp' and 'atemp' high correlated - drop one of them\n",
    "# Test dataset not contain 'casual' and 'registered', drop\n",
    "train = train.drop(['count', 'casual', 'registered', 'atemp', 'datetime'], axis=1)\n",
    "test = test.drop(['atemp', 'datetime'], axis=1)\n",
    "\n",
    "print(train.shape)\n",
    "print(test.shape)\n",
    "#train[:24*10].plot(x='datetime', y='count')"
   ]
  },
  {
   "cell_type": "code",
   "execution_count": 123,
   "metadata": {},
   "outputs": [
    {
     "name": "stdout",
     "output_type": "stream",
     "text": [
      "(10886, 13)\n",
      "(8600, 13)\n",
      "(2286, 13)\n"
     ]
    },
    {
     "data": {
      "text/html": [
       "<div>\n",
       "<style scoped>\n",
       "    .dataframe tbody tr th:only-of-type {\n",
       "        vertical-align: middle;\n",
       "    }\n",
       "\n",
       "    .dataframe tbody tr th {\n",
       "        vertical-align: top;\n",
       "    }\n",
       "\n",
       "    .dataframe thead th {\n",
       "        text-align: right;\n",
       "    }\n",
       "</style>\n",
       "<table border=\"1\" class=\"dataframe\">\n",
       "  <thead>\n",
       "    <tr style=\"text-align: right;\">\n",
       "      <th></th>\n",
       "      <th>holiday</th>\n",
       "      <th>workingday</th>\n",
       "      <th>temp</th>\n",
       "      <th>humidity</th>\n",
       "      <th>windspeed</th>\n",
       "      <th>season_1</th>\n",
       "      <th>season_2</th>\n",
       "      <th>season_3</th>\n",
       "      <th>season_4</th>\n",
       "      <th>weather_1</th>\n",
       "      <th>weather_2</th>\n",
       "      <th>weather_3</th>\n",
       "      <th>weather_4</th>\n",
       "    </tr>\n",
       "  </thead>\n",
       "  <tbody>\n",
       "    <tr>\n",
       "      <th>0</th>\n",
       "      <td>0</td>\n",
       "      <td>0</td>\n",
       "      <td>10.66</td>\n",
       "      <td>56</td>\n",
       "      <td>0.0000</td>\n",
       "      <td>1</td>\n",
       "      <td>0</td>\n",
       "      <td>0</td>\n",
       "      <td>0</td>\n",
       "      <td>1</td>\n",
       "      <td>0</td>\n",
       "      <td>0</td>\n",
       "      <td>0</td>\n",
       "    </tr>\n",
       "    <tr>\n",
       "      <th>1</th>\n",
       "      <td>0</td>\n",
       "      <td>0</td>\n",
       "      <td>10.66</td>\n",
       "      <td>56</td>\n",
       "      <td>8.9981</td>\n",
       "      <td>1</td>\n",
       "      <td>0</td>\n",
       "      <td>0</td>\n",
       "      <td>0</td>\n",
       "      <td>1</td>\n",
       "      <td>0</td>\n",
       "      <td>0</td>\n",
       "      <td>0</td>\n",
       "    </tr>\n",
       "  </tbody>\n",
       "</table>\n",
       "</div>"
      ],
      "text/plain": [
       "   holiday  workingday   temp  humidity  windspeed  season_1  season_2  \\\n",
       "0        0           0  10.66        56     0.0000         1         0   \n",
       "1        0           0  10.66        56     8.9981         1         0   \n",
       "\n",
       "   season_3  season_4  weather_1  weather_2  weather_3  weather_4  \n",
       "0         0         0          1          0          0          0  \n",
       "1         0         0          1          0          0          0  "
      ]
     },
     "execution_count": 123,
     "metadata": {},
     "output_type": "execute_result"
    }
   ],
   "source": [
    "# One hot encoding - categorical variables\n",
    "def one_hot_encoding(data):\n",
    "    dummy_fields = ['season', 'weather']\n",
    "    for each in dummy_fields:\n",
    "        dummies = pd.get_dummies(data[each], prefix=each, drop_first=False)\n",
    "        data = pd.concat([data, dummies], axis=1)\n",
    "\n",
    "    # 'temp' and 'atemp' high correlated - drop one of them\n",
    "    fields_to_drop = ['season', 'weather']\n",
    "    one_hot_data = data.drop(fields_to_drop, axis=1)\n",
    "    return one_hot_data\n",
    "    \n",
    "# Test dataset missing some weather 4, so combine together for one_hot and then split\n",
    "concat_data = pd.concat([train, test])\n",
    "data = one_hot_encoding(concat_data)\n",
    "train_data = data[:train.shape[0]]\n",
    "test_data = data[train.shape[0]:]\n",
    "print(data.shape)\n",
    "print(train_data.shape)\n",
    "print(test_data.shape)\n",
    "#train_data.head(2)\n",
    "test_data.head(2)"
   ]
  },
  {
   "cell_type": "code",
   "execution_count": 124,
   "metadata": {},
   "outputs": [
    {
     "name": "stdout",
     "output_type": "stream",
     "text": [
      "(8600, 13)\n",
      "(2286, 13)\n"
     ]
    }
   ],
   "source": [
    "# standardize\n",
    "#from sklearn.preprocessing import StandardScaler\n",
    "\n",
    "#scaler_x = StandardScaler()\n",
    "#x_train = scaler_x.fit_transform(train_data)\n",
    "#x_test = scaler_x.transform(test_data)\n",
    "\n",
    "x_train = train_data\n",
    "x_test = test_data\n",
    "print(x_train.shape)\n",
    "print(x_test.shape)\n",
    "#x_train.head(1)\n",
    "#list(y_train)"
   ]
  },
  {
   "cell_type": "code",
   "execution_count": 130,
   "metadata": {},
   "outputs": [
    {
     "name": "stderr",
     "output_type": "stream",
     "text": [
      "/Users/mingxie/.pyenv/versions/3.7.0/lib/python3.7/site-packages/sklearn/ensemble/forest.py:246: FutureWarning: The default value of n_estimators will change from 10 in version 0.20 to 100 in 0.22.\n",
      "  \"10 in version 0.20 to 100 in 0.22.\", FutureWarning)\n"
     ]
    },
    {
     "data": {
      "text/plain": [
       "ExtraTreesRegressor(bootstrap=False, criterion='mse', max_depth=None,\n",
       "          max_features='auto', max_leaf_nodes=None,\n",
       "          min_impurity_decrease=0.0, min_impurity_split=None,\n",
       "          min_samples_leaf=1, min_samples_split=2,\n",
       "          min_weight_fraction_leaf=0.0, n_estimators=10, n_jobs=None,\n",
       "          oob_score=False, random_state=None, verbose=0, warm_start=False)"
      ]
     },
     "execution_count": 130,
     "metadata": {},
     "output_type": "execute_result"
    }
   ],
   "source": [
    "# Using linear regression might obtain negative prediction values\n",
    "# Instead, using log-price, generalized linear models (GLMs), poisson\n",
    "#from sklearn.linear_model import LinearRegression\n",
    "#from sklearn.linear_model import SGDRegressor\n",
    "#from sklearn.ensemble import GradientBoostingRegressor\n",
    "from sklearn.ensemble import ExtraTreesRegressor\n",
    "#from sklearn.ensemble import RandomForestRegressor\n",
    "\n",
    "#model = LinearRegression()\n",
    "#model = SGDRegressor()\n",
    "#model = RandomForestRegressor()\n",
    "#model = GradientBoostingRegressor()\n",
    "model = ExtraTreesRegressor()\n",
    "model.fit(x_train, y_train)"
   ]
  },
  {
   "cell_type": "code",
   "execution_count": 131,
   "metadata": {},
   "outputs": [],
   "source": [
    "pred = model.predict(x_test)"
   ]
  },
  {
   "cell_type": "code",
   "execution_count": 132,
   "metadata": {},
   "outputs": [],
   "source": [
    "#import numpy as np\n",
    "#pred = np.ndarray.round(pred)\n",
    "#pred = np.floor(pred)\n",
    "#pred = np.ceil(pred)\n",
    "#pred = np.around(pred)\n",
    "submission_file = pd.read_csv('~/Downloads/submission_sample.csv')\n",
    "submission = pd.DataFrame({'datetime': submission_file['datetime'], 'count': pred})\n",
    "submission.to_csv('~/Downloads/extra_submission.csv', index=False)"
   ]
  },
  {
   "cell_type": "code",
   "execution_count": null,
   "metadata": {},
   "outputs": [],
   "source": []
  }
 ],
 "metadata": {
  "kernelspec": {
   "display_name": "Python 3",
   "language": "python",
   "name": "python3"
  },
  "language_info": {
   "codemirror_mode": {
    "name": "ipython",
    "version": 3
   },
   "file_extension": ".py",
   "mimetype": "text/x-python",
   "name": "python",
   "nbconvert_exporter": "python",
   "pygments_lexer": "ipython3",
   "version": "3.7.0"
  }
 },
 "nbformat": 4,
 "nbformat_minor": 2
}
